{
 "cells": [
  {
   "cell_type": "markdown",
   "id": "f8dbbaf7",
   "metadata": {},
   "source": [
    "# Model Training"
   ]
  },
  {
   "cell_type": "code",
   "execution_count": 4,
   "id": "84ef229c",
   "metadata": {},
   "outputs": [],
   "source": [
    "import pandas as pd \n",
    "import numpy as np\n",
    "import matplotlib.pyplot as plt\n",
    "import seaborn as sns\n",
    "import xgboost as xgb\n",
    "from sklearn.metrics import mean_absolute_error, r2_score, mean_absolute_percentage_error\n",
    "from sklearn.model_selection import train_test_split, GridSearchCV, RandomizedSearchCV\n",
    "from sklearn.ensemble import RandomForestRegressor"
   ]
  },
  {
   "cell_type": "code",
   "execution_count": 5,
   "id": "4e2734dc",
   "metadata": {},
   "outputs": [
    {
     "name": "stdout",
     "output_type": "stream",
     "text": [
      "<class 'pandas.core.frame.DataFrame'>\n",
      "Index: 34896 entries, 2015-01-07 23:00:00+00:00 to 2018-12-31 22:00:00+00:00\n",
      "Data columns (total 41 columns):\n",
      " #   Column                                       Non-Null Count  Dtype  \n",
      "---  ------                                       --------------  -----  \n",
      " 0   generation fossil brown coal/lignite         34896 non-null  float64\n",
      " 1   generation fossil gas                        34896 non-null  float64\n",
      " 2   generation fossil hard coal                  34896 non-null  float64\n",
      " 3   generation fossil oil                        34896 non-null  float64\n",
      " 4   generation hydro pumped storage consumption  34896 non-null  float64\n",
      " 5   generation hydro water reservoir             34896 non-null  float64\n",
      " 6   generation other renewable                   34896 non-null  float64\n",
      " 7   generation solar                             34896 non-null  float64\n",
      " 8   total load actual                            34896 non-null  float64\n",
      " 9   price day ahead                              34896 non-null  float64\n",
      " 10  price actual                                 34896 non-null  float64\n",
      " 11  temp_Barcelona                               34896 non-null  float64\n",
      " 12  temp_min_Barcelona                           34896 non-null  float64\n",
      " 13  humidity_Barcelona                           34896 non-null  float64\n",
      " 14  temp_Bilbao                                  34896 non-null  float64\n",
      " 15  temp_min_Bilbao                              34896 non-null  float64\n",
      " 16  temp_max_Bilbao                              34896 non-null  float64\n",
      " 17  humidity_Bilbao                              34896 non-null  float64\n",
      " 18  wind_speed_Bilbao                            34896 non-null  float64\n",
      " 19  temp_Madrid                                  34896 non-null  float64\n",
      " 20  temp_min_Madrid                              34896 non-null  float64\n",
      " 21  temp_max_Madrid                              34896 non-null  float64\n",
      " 22  humidity_Madrid                              34896 non-null  float64\n",
      " 23  temp_Seville                                 34896 non-null  float64\n",
      " 24  temp_min_Seville                             34896 non-null  float64\n",
      " 25  temp_max_Seville                             34896 non-null  float64\n",
      " 26  humidity_Seville                             34896 non-null  float64\n",
      " 27  temp_Valencia                                34896 non-null  float64\n",
      " 28  temp_min_Valencia                            34896 non-null  float64\n",
      " 29  temp_max_Valencia                            34896 non-null  float64\n",
      " 30  humidity_Valencia                            34896 non-null  float64\n",
      " 31  wind_speed_Valencia                          34896 non-null  float64\n",
      " 32  hour                                         34896 non-null  int64  \n",
      " 33  dayofweek                                    34896 non-null  int64  \n",
      " 34  quarter                                      34896 non-null  int64  \n",
      " 35  month                                        34896 non-null  int64  \n",
      " 36  year                                         34896 non-null  int64  \n",
      " 37  dayofyear                                    34896 non-null  int64  \n",
      " 38  is_weekend                                   34896 non-null  bool   \n",
      " 39  load_lag_24h                                 34896 non-null  float64\n",
      " 40  load_lag_168h                                34896 non-null  float64\n",
      "dtypes: bool(1), float64(34), int64(6)\n",
      "memory usage: 10.9+ MB\n"
     ]
    }
   ],
   "source": [
    "df = pd.read_csv('../data/prepared/df_prepared.csv')\n",
    "df = df.set_index('time')\n",
    "df.info()"
   ]
  },
  {
   "cell_type": "code",
   "execution_count": 6,
   "id": "78217b42",
   "metadata": {},
   "outputs": [
    {
     "name": "stdout",
     "output_type": "stream",
     "text": [
      "(34896, 40)\n",
      "(34896,)\n",
      "0\n",
      "0\n"
     ]
    }
   ],
   "source": [
    "X, y = df.drop('total load actual', axis=1), df['total load actual']\n",
    "X_train, X_test, y_train, y_test = train_test_split(X, y, test_size=0.2)\n",
    "\n",
    "\n",
    "print(X.shape)\n",
    "print(y.shape)\n",
    "print(y_train.isna().sum())\n",
    "print(y_test.isna().sum())"
   ]
  },
  {
   "cell_type": "markdown",
   "id": "07afe70b",
   "metadata": {},
   "source": [
    "## Random Forest"
   ]
  },
  {
   "cell_type": "code",
   "execution_count": 7,
   "id": "21e0b5e0",
   "metadata": {},
   "outputs": [
    {
     "name": "stdout",
     "output_type": "stream",
     "text": [
      "Fitting 3 folds for each of 6 candidates, totalling 18 fits\n",
      "Best parameters: {'max_depth': None, 'n_estimators': 200}\n"
     ]
    }
   ],
   "source": [
    "# Hyperparameter tuning using Grid Search\n",
    "\n",
    "param_grid = {\n",
    "    'n_estimators': [100, 200],\n",
    "    'max_depth': [10, 20, None]\n",
    "}\n",
    "\n",
    "grid_search_rf = GridSearchCV(RandomForestRegressor(n_jobs=-1), param_grid,\n",
    "                              scoring='neg_mean_absolute_error', cv=3, verbose=1)\n",
    "\n",
    "grid_search_rf.fit(X_train, y_train)\n",
    "\n",
    "print(\"Best parameters:\", grid_search_rf.best_params_)\n",
    "best_rf = grid_search_rf.best_estimator_"
   ]
  },
  {
   "cell_type": "markdown",
   "id": "a3f184be",
   "metadata": {},
   "source": [
    "## XGBoost"
   ]
  },
  {
   "cell_type": "code",
   "execution_count": 8,
   "id": "6ac02690",
   "metadata": {},
   "outputs": [
    {
     "name": "stdout",
     "output_type": "stream",
     "text": [
      "Fitting 3 folds for each of 10 candidates, totalling 30 fits\n",
      "Best parameters: {'n_estimators': 500, 'max_depth': 6, 'learning_rate': 0.1}\n"
     ]
    }
   ],
   "source": [
    "# Hyperparameter tuning using Random Search\n",
    "\n",
    "param_dist = {\n",
    "    'n_estimators': [100, 300, 500],\n",
    "    'learning_rate': [0.01, 0.1, 0.3],\n",
    "    'max_depth': [3, 6, 10]\n",
    "}\n",
    "\n",
    "random_search_xgb = RandomizedSearchCV(\n",
    "    xgb.XGBRegressor(), param_distributions=param_dist,\n",
    "    scoring='neg_mean_absolute_error', cv=3, n_iter=10, verbose=1\n",
    ")\n",
    "random_search_xgb.fit(X_train, y_train)\n",
    "\n",
    "print(\"Best parameters:\", random_search_xgb.best_params_)\n",
    "best_xgb = random_search_xgb.best_estimator_"
   ]
  },
  {
   "cell_type": "markdown",
   "id": "6b37879c",
   "metadata": {},
   "source": [
    "## Metrics "
   ]
  },
  {
   "cell_type": "code",
   "execution_count": 9,
   "id": "346b64fc",
   "metadata": {},
   "outputs": [],
   "source": [
    "# Predict using best models trained\n",
    "\n",
    "y_pred_rf_best = best_rf.predict(X_test)\n",
    "y_pred_xgb_best = best_xgb.predict(X_test)\n",
    "\n",
    "# Metrics\n",
    "metrics = {\n",
    "    'Model': ['Random Forest', 'XGBoost'],\n",
    "    'MAE': [\n",
    "        mean_absolute_error(y_test, y_pred_rf_best),\n",
    "        mean_absolute_error(y_test, y_pred_xgb_best)\n",
    "    ],\n",
    "    'MAPE': [\n",
    "        mean_absolute_percentage_error(y_test, y_pred_rf_best) * 100,\n",
    "        mean_absolute_percentage_error(y_test, y_pred_xgb_best) * 100\n",
    "    ],\n",
    "    'R²': [\n",
    "        r2_score(y_test, y_pred_rf_best),\n",
    "        r2_score(y_test, y_pred_xgb_best)\n",
    "    ]\n",
    "}"
   ]
  },
  {
   "cell_type": "code",
   "execution_count": 10,
   "id": "864798ca",
   "metadata": {},
   "outputs": [
    {
     "data": {
      "text/html": [
       "<div>\n",
       "<style scoped>\n",
       "    .dataframe tbody tr th:only-of-type {\n",
       "        vertical-align: middle;\n",
       "    }\n",
       "\n",
       "    .dataframe tbody tr th {\n",
       "        vertical-align: top;\n",
       "    }\n",
       "\n",
       "    .dataframe thead th {\n",
       "        text-align: right;\n",
       "    }\n",
       "</style>\n",
       "<table border=\"1\" class=\"dataframe\">\n",
       "  <thead>\n",
       "    <tr style=\"text-align: right;\">\n",
       "      <th></th>\n",
       "      <th>Model</th>\n",
       "      <th>MAE</th>\n",
       "      <th>MAPE</th>\n",
       "      <th>R²</th>\n",
       "    </tr>\n",
       "  </thead>\n",
       "  <tbody>\n",
       "    <tr>\n",
       "      <th>0</th>\n",
       "      <td>Random Forest</td>\n",
       "      <td>799.001024</td>\n",
       "      <td>2.832445</td>\n",
       "      <td>0.936042</td>\n",
       "    </tr>\n",
       "    <tr>\n",
       "      <th>1</th>\n",
       "      <td>XGBoost</td>\n",
       "      <td>636.752468</td>\n",
       "      <td>2.253507</td>\n",
       "      <td>0.963927</td>\n",
       "    </tr>\n",
       "  </tbody>\n",
       "</table>\n",
       "</div>"
      ],
      "text/plain": [
       "           Model         MAE      MAPE        R²\n",
       "0  Random Forest  799.001024  2.832445  0.936042\n",
       "1        XGBoost  636.752468  2.253507  0.963927"
      ]
     },
     "execution_count": 10,
     "metadata": {},
     "output_type": "execute_result"
    }
   ],
   "source": [
    "metrics_df = pd.DataFrame(metrics)\n",
    "metrics_df"
   ]
  },
  {
   "cell_type": "code",
   "execution_count": 11,
   "id": "d131ef4c",
   "metadata": {},
   "outputs": [
    {
     "name": "stderr",
     "output_type": "stream",
     "text": [
      "C:\\Users\\canil\\AppData\\Local\\Temp\\ipykernel_14236\\272902529.py:3: FutureWarning: \n",
      "\n",
      "Passing `palette` without assigning `hue` is deprecated and will be removed in v0.14.0. Assign the `x` variable to `hue` and set `legend=False` for the same effect.\n",
      "\n",
      "  sns.barplot(ax=axes[0], x='Model', y='MAE', data=metrics_df, palette='Blues_d')\n",
      "C:\\Users\\canil\\AppData\\Local\\Temp\\ipykernel_14236\\272902529.py:7: FutureWarning: \n",
      "\n",
      "Passing `palette` without assigning `hue` is deprecated and will be removed in v0.14.0. Assign the `x` variable to `hue` and set `legend=False` for the same effect.\n",
      "\n",
      "  sns.barplot(ax=axes[1], x='Model', y='MAPE', data=metrics_df, palette='Greens_d')\n",
      "C:\\Users\\canil\\AppData\\Local\\Temp\\ipykernel_14236\\272902529.py:11: FutureWarning: \n",
      "\n",
      "Passing `palette` without assigning `hue` is deprecated and will be removed in v0.14.0. Assign the `x` variable to `hue` and set `legend=False` for the same effect.\n",
      "\n",
      "  sns.barplot(ax=axes[2], x='Model', y='R²', data=metrics_df, palette='flare')\n"
     ]
    },
    {
     "data": {
      "image/png": "[encoded data removed]",
      "text/plain": [
       "<Figure size 2000x800 with 3 Axes>"
      ]
     },
     "metadata": {},
     "output_type": "display_data"
    }
   ],
   "source": [
    "fig, axes = plt.subplots(1, 3, figsize=(20, 8))\n",
    "\n",
    "sns.barplot(ax=axes[0], x='Model', y='MAE', data=metrics_df, palette='Blues_d')\n",
    "axes[0].set_title('Mean Absolute Error (MAE)')\n",
    "axes[0].set_ylabel('MAE (MWh)')\n",
    "\n",
    "sns.barplot(ax=axes[1], x='Model', y='MAPE', data=metrics_df, palette='Greens_d')\n",
    "axes[1].set_title('Mean Absolute Percentage Error (MAPE)')\n",
    "axes[1].set_ylabel('MAPE (%)')\n",
    "\n",
    "sns.barplot(ax=axes[2], x='Model', y='R²', data=metrics_df, palette='flare')\n",
    "axes[2].set_title('R² Score')\n",
    "axes[2].set_ylabel('R²')\n",
    "\n",
    "plt.tight_layout()\n",
    "plt.show()"
   ]
  },
  {
   "cell_type": "code",
   "execution_count": 12,
   "id": "5c9e94b1",
   "metadata": {},
   "outputs": [
    {
     "data": {
      "text/html": [
       "<div>\n",
       "<style scoped>\n",
       "    .dataframe tbody tr th:only-of-type {\n",
       "        vertical-align: middle;\n",
       "    }\n",
       "\n",
       "    .dataframe tbody tr th {\n",
       "        vertical-align: top;\n",
       "    }\n",
       "\n",
       "    .dataframe thead th {\n",
       "        text-align: right;\n",
       "    }\n",
       "</style>\n",
       "<table border=\"1\" class=\"dataframe\">\n",
       "  <thead>\n",
       "    <tr style=\"text-align: right;\">\n",
       "      <th></th>\n",
       "      <th>Feature</th>\n",
       "      <th>Importance</th>\n",
       "    </tr>\n",
       "  </thead>\n",
       "  <tbody>\n",
       "    <tr>\n",
       "      <th>31</th>\n",
       "      <td>hour</td>\n",
       "      <td>0.464</td>\n",
       "    </tr>\n",
       "    <tr>\n",
       "      <th>3</th>\n",
       "      <td>generation fossil oil</td>\n",
       "      <td>0.166</td>\n",
       "    </tr>\n",
       "    <tr>\n",
       "      <th>38</th>\n",
       "      <td>load_lag_24h</td>\n",
       "      <td>0.116</td>\n",
       "    </tr>\n",
       "    <tr>\n",
       "      <th>4</th>\n",
       "      <td>generation hydro pumped storage consumption</td>\n",
       "      <td>0.055</td>\n",
       "    </tr>\n",
       "    <tr>\n",
       "      <th>1</th>\n",
       "      <td>generation fossil gas</td>\n",
       "      <td>0.043</td>\n",
       "    </tr>\n",
       "  </tbody>\n",
       "</table>\n",
       "</div>"
      ],
      "text/plain": [
       "                                        Feature  Importance\n",
       "31                                         hour       0.464\n",
       "3                         generation fossil oil       0.166\n",
       "38                                 load_lag_24h       0.116\n",
       "4   generation hydro pumped storage consumption       0.055\n",
       "1                         generation fossil gas       0.043"
      ]
     },
     "execution_count": 12,
     "metadata": {},
     "output_type": "execute_result"
    }
   ],
   "source": [
    "importances_rf = pd.DataFrame({\n",
    "    'Feature': X_train.columns,\n",
    "    'Importance': best_rf.feature_importances_\n",
    "}).sort_values(by='Importance', ascending=False)\n",
    "\n",
    "importances_rf.head(5).round(3)"
   ]
  },
  {
   "cell_type": "code",
   "execution_count": 13,
   "id": "95aefd23",
   "metadata": {},
   "outputs": [
    {
     "data": {
      "text/html": [
       "<div>\n",
       "<style scoped>\n",
       "    .dataframe tbody tr th:only-of-type {\n",
       "        vertical-align: middle;\n",
       "    }\n",
       "\n",
       "    .dataframe tbody tr th {\n",
       "        vertical-align: top;\n",
       "    }\n",
       "\n",
       "    .dataframe thead th {\n",
       "        text-align: right;\n",
       "    }\n",
       "</style>\n",
       "<table border=\"1\" class=\"dataframe\">\n",
       "  <thead>\n",
       "    <tr style=\"text-align: right;\">\n",
       "      <th></th>\n",
       "      <th>Feature</th>\n",
       "      <th>Importance</th>\n",
       "    </tr>\n",
       "  </thead>\n",
       "  <tbody>\n",
       "    <tr>\n",
       "      <th>31</th>\n",
       "      <td>hour</td>\n",
       "      <td>0.346</td>\n",
       "    </tr>\n",
       "    <tr>\n",
       "      <th>4</th>\n",
       "      <td>generation hydro pumped storage consumption</td>\n",
       "      <td>0.250</td>\n",
       "    </tr>\n",
       "    <tr>\n",
       "      <th>38</th>\n",
       "      <td>load_lag_24h</td>\n",
       "      <td>0.081</td>\n",
       "    </tr>\n",
       "    <tr>\n",
       "      <th>3</th>\n",
       "      <td>generation fossil oil</td>\n",
       "      <td>0.072</td>\n",
       "    </tr>\n",
       "    <tr>\n",
       "      <th>1</th>\n",
       "      <td>generation fossil gas</td>\n",
       "      <td>0.031</td>\n",
       "    </tr>\n",
       "  </tbody>\n",
       "</table>\n",
       "</div>"
      ],
      "text/plain": [
       "                                        Feature  Importance\n",
       "31                                         hour       0.346\n",
       "4   generation hydro pumped storage consumption       0.250\n",
       "38                                 load_lag_24h       0.081\n",
       "3                         generation fossil oil       0.072\n",
       "1                         generation fossil gas       0.031"
      ]
     },
     "execution_count": 13,
     "metadata": {},
     "output_type": "execute_result"
    }
   ],
   "source": [
    "importances_xgb = pd.DataFrame({\n",
    "    'Feature': best_xgb.feature_names_in_,\n",
    "    'Importance': best_xgb.feature_importances_\n",
    "}).sort_values(by='Importance', ascending=False)\n",
    "\n",
    "importances_xgb.head(5).round(3)\n"
   ]
  },
  {
   "cell_type": "code",
   "execution_count": 14,
   "id": "507ff2f9",
   "metadata": {},
   "outputs": [
    {
     "data": {
      "image/png": "[encoded data removed]",
      "text/plain": [
       "<Figure size 1400x500 with 2 Axes>"
      ]
     },
     "metadata": {},
     "output_type": "display_data"
    }
   ],
   "source": [
    "top_rf = importances_rf.head(5)\n",
    "top_xgb = importances_xgb.head(5)\n",
    "\n",
    "fig, axs = plt.subplots(1, 2, figsize=(14, 5))\n",
    "\n",
    "# Random Forest plot\n",
    "axs[0].barh(top_rf['Feature'], top_rf['Importance'], color='forestgreen')\n",
    "axs[0].set_title('Top Features - Random Forest')\n",
    "axs[0].invert_yaxis()\n",
    "\n",
    "# XGBoost plot\n",
    "axs[1].barh(top_xgb['Feature'], top_xgb['Importance'], color='darkorange')\n",
    "axs[1].set_title('Top Features - XGBoost')\n",
    "axs[1].invert_yaxis()\n",
    "\n",
    "plt.tight_layout()\n",
    "plt.show()"
   ]
  }
 ],
 "metadata": {
  "kernelspec": {
   "display_name": "venv",
   "language": "python",
   "name": "python3"
  },
  "language_info": {
   "codemirror_mode": {
    "name": "ipython",
    "version": 3
   },
   "file_extension": ".py",
   "mimetype": "text/x-python",
   "name": "python",
   "nbconvert_exporter": "python",
   "pygments_lexer": "ipython3",
   "version": "3.12.6"
  }
 },
 "nbformat": 4,
 "nbformat_minor": 5
}
